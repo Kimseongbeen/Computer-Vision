{
 "cells": [
  {
   "cell_type": "markdown",
   "metadata": {
    "id": "YjmuYj2TYv0-"
   },
   "source": [
    "\n",
    "\n",
    "# **Video Streams and CCTV - RSTP and IP**\n",
    "\n",
    "#### **In this lesson we'll learn how to import RTSP and IP Camera Streams in OpenCV**"
   ]
  },
  {
   "cell_type": "markdown",
   "metadata": {
    "id": "8_6HrNeOYv1B"
   },
   "source": [
    "### **RTSP Real Time Streaming Protocol**\n",
    "\n",
    "RSPT is client-server multimedia presentation control protocol, designed to address the needs for efficient delivery of streamed multimedia over IP networks. The underlying protocol used for RTSP is RTP protocol. \n",
    "\n",
    "RTSP was developed by RealNetworks, Netscape and Columbia University around 1996. It a protocol that is used for transferring real-time multimedia data (e.g audio/video) between client and a server. Usually a Client requests and server responds to the request with the data over this protocol. As it is a streaming protocol, with real time capability which means that the data is being simultaneously transferred and rendered in realtime. Here the multimedia data is encapsulated under Real-time Transport Protocol (RTP) packets. So its not RTSP who does the work, its the RTP. Most of the \n",
    "\n",
    "![](https://upload.wikimedia.org/wikipedia/commons/3/38/Zuragb.jpg)"
   ]
  },
  {
   "cell_type": "code",
   "execution_count": null,
   "metadata": {
    "id": "jBEqrybdYv1C"
   },
   "outputs": [],
   "source": [
    "from matplotlib import pyplot as plt\n",
    "import cv2\n",
    "\n",
    "# 우리의 무료 테스트 RTSP 링크\n",
    "# CCTV IPTV 카메라를 구성하여 RSTP 스트림을 출력하도록 설정할 수 있습니다.\n",
    "cap = cv2.VideoCapture(\"rtsp://210.99.70.120:1935/live/cctv007.stream\")\n",
    "\n",
    "while(1):\n",
    "    ret, frame = cap.read()\n",
    "\n",
    "    # 이미지 표시\n",
    "    plt.imshow(cv2.cvtColor(frame, cv2.COLOR_BGR2RGB))\n",
    "    plt.show()\n",
    "    \n",
    "    if cv2.waitKey(1) == 13: #13은 엔터 키입니다.\n",
    "        break\n",
    "        \n",
    "# 카메라를 해제하고 창을 닫습니다.\n",
    "cap.release()\n"
   ]
  },
  {
   "cell_type": "markdown",
   "metadata": {
    "id": "jfto1syIYv1D"
   },
   "source": [
    "### **Interested in Ingesting Multiple IP Streams Easily? Look at ImageZMG**\n",
    "\n",
    "- https://github.com/jeffbass/imagezmq#introduction\n",
    "- https://www.pyimageconf.com/static/talks/jeff_bass.pdf"
   ]
  },
  {
   "cell_type": "code",
   "execution_count": 2,
   "metadata": {
    "id": "NxZKqNVIYv1E"
   },
   "outputs": [
    {
     "name": "stdout",
     "output_type": "stream",
     "text": [
      "Collecting imagezmq\n",
      "  Downloading imagezmq-1.1.1-py3-none-any.whl.metadata (7.1 kB)\n",
      "Requirement already satisfied: pyzmq>=16.0 in c:\\python311\\lib\\site-packages (from imagezmq) (26.0.3)\n",
      "Requirement already satisfied: numpy>=1.13 in c:\\python311\\lib\\site-packages (from imagezmq) (1.25.2)\n",
      "Downloading imagezmq-1.1.1-py3-none-any.whl (8.7 kB)\n",
      "Installing collected packages: imagezmq\n",
      "Successfully installed imagezmq-1.1.1\n"
     ]
    },
    {
     "name": "stderr",
     "output_type": "stream",
     "text": [
      "DEPRECATION: Loading egg at c:\\python311\\lib\\site-packages\\vboxapi-1.0-py3.11.egg is deprecated. pip 24.3 will enforce this behaviour change. A possible replacement is to use pip for package installation.. Discussion can be found at https://github.com/pypa/pip/issues/12330\n"
     ]
    }
   ],
   "source": [
    "# You will need to install ImageZMQ first\n",
    "!pip install imagezmq"
   ]
  },
  {
   "cell_type": "code",
   "execution_count": null,
   "metadata": {
    "id": "-hRiEXjqYv1E"
   },
   "outputs": [],
   "source": [
    "# run this program on the Mac to display image streams from multiple RPis\n",
    "import cv2\n",
    "import imagezmq\n",
    "\n",
    "image_hub = imagezmq.ImageHub()\n",
    "\n",
    "while True:  # show streamed images until Ctrl-C\n",
    "    rpi_name, image = image_hub.recv_image()\n",
    "    cv2.imshow(rpi_name, image) # 1 window for each RPi\n",
    "    cv2.waitKey(1)\n",
    "    image_hub.send_reply(b'OK')"
   ]
  },
  {
   "cell_type": "code",
   "execution_count": null,
   "metadata": {},
   "outputs": [],
   "source": []
  }
 ],
 "metadata": {
  "colab": {
   "name": "4. Video Streams and CCTV - RTSP and IP.ipynb",
   "provenance": []
  },
  "kernelspec": {
   "display_name": "Python 3 (ipykernel)",
   "language": "python",
   "name": "python3"
  },
  "language_info": {
   "codemirror_mode": {
    "name": "ipython",
    "version": 3
   },
   "file_extension": ".py",
   "mimetype": "text/x-python",
   "name": "python",
   "nbconvert_exporter": "python",
   "pygments_lexer": "ipython3",
   "version": "3.11.2"
  }
 },
 "nbformat": 4,
 "nbformat_minor": 4
}
