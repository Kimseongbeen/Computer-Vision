{
 "cells": [
  {
   "cell_type": "markdown",
   "metadata": {
    "id": "aizjd7mjYwP_"
   },
   "source": [
    "# **Auto Reconnect to RSTP Stream**\n",
    "\n",
    "#### **In this lesson we'll learn how to use a class to enable auto reconnection to a video stream**"
   ]
  },
  {
   "cell_type": "code",
   "execution_count": 2,
   "metadata": {
    "id": "0FToKwNvYwQD"
   },
   "outputs": [],
   "source": [
    "import cv2\n",
    "import requests\n",
    "import time\n",
    "\n",
    "class VideoCapture:\n",
    "    def __init__(self, cam_address, cam_force_address=None, blocking=False):\n",
    "        \"\"\"\n",
    "        cam_address: 카메라 피드의 IP 주소\n",
    "        cam_force_address: 다른 클라이언트를 연결 해제하는 IP 주소 (강제 점유)\n",
    "        blocking: true인 경우 read() 및 connect_camera() 메서드가 IP 카메라 재연결까지 차단됨\n",
    "        \"\"\"\n",
    "        self.cam_address = cam_address\n",
    "        self.cam_force_address = cam_force_address\n",
    "        self.blocking = blocking\n",
    "        self.capture = None\n",
    "        \n",
    "        # 주기적으로 재연결 시도 시간 설정 (초 단위)\n",
    "        self.RECONNECTION_PERIOD = 0.5\n",
    "        # 카메라 연결 메서드 호출\n",
    "        self.connect_camera()\n",
    "\n",
    "    def connect_camera(self):\n",
    "        print(\"Connecting...\")\n",
    "        while True:\n",
    "            try:\n",
    "                if self.cam_force_address is not None:\n",
    "                    requests.get(self.cam_force_address)\n",
    "\n",
    "                self.capture = cv2.VideoCapture(self.cam_address)\n",
    "\n",
    "                if not self.capture.isOpened():\n",
    "                    time.sleep(self.RECONNECTION_PERIOD)\n",
    "                    raise Exception(\"Could not connect to a camera: {0}\".format(self.cam_address))\n",
    "\n",
    "                print(\"Connected to a camera: {}\".format(self.cam_address))\n",
    "\n",
    "                break\n",
    "            except Exception as e:\n",
    "                print(e)\n",
    "\n",
    "                if self.blocking is False:\n",
    "                    break\n",
    "\n",
    "                time.sleep(self.RECONNECTION_PERIOD)\n",
    "\n",
    "    def getStream(self):\n",
    "        \"\"\"\n",
    "        프레임을 읽고 프레임을 받지 못하면 카메라 재연결 시도\n",
    "\n",
    "        :return: ret - 프레임이 성공적으로 읽혔는지 여부를 나타내는 부울 값\n",
    "                 frame - 카메라에서 받은 OpenCV 이미지\n",
    "        \"\"\"\n",
    "\n",
    "        ret, frame = self.capture.read()\n",
    "\n",
    "        # 피드가 다운되면 재연결 시도\n",
    "        if ret is False:\n",
    "            self.connect_camera()\n",
    "\n",
    "        return ret, frame"
   ]
  },
  {
   "cell_type": "code",
   "execution_count": null,
   "metadata": {
    "id": "FdcUtRGXYwQF",
    "outputId": "c600436a-667a-4edb-c6fe-775d2ec315a9"
   },
   "outputs": [],
   "source": [
    "# RTSP 스트림 URL을 사용하여 VideoCapture 객체 생성\n",
    "cap = VideoCapture(\"rtsp://210.99.70.120:1935/live/cctv007.stream\")\n",
    "\n",
    "while(1):\n",
    "    ret, frame = cap.getStream()\n",
    "    \n",
    "    if not ret or frame is None:\n",
    "        print(\"Failed to receive frame\")\n",
    "        continue\n",
    "\n",
    "    # 프레임 크기 자동 조정\n",
    "    frame_height, frame_width = frame.shape[:2]\n",
    "\n",
    "    # 창 크기 조정\n",
    "    cv2.namedWindow('RTSP Stream', cv2.WINDOW_NORMAL)\n",
    "    cv2.resizeWindow('RTSP Stream', frame_width, frame_height)\n",
    "    \n",
    "    # 프레임을 화면에 표시\n",
    "    cv2.imshow('RTSP Stream', frame)\n",
    "    \n",
    "    if cv2.waitKey(1) == 13:  # 13은 Enter 키입니다.\n",
    "        print(\"Exited...\")\n",
    "        break\n",
    "# 카메라를 해제하고 창을 닫습니다.\n",
    "cap.capture.release()\n",
    "cv2.destroyAllWindows()"
   ]
  },
  {
   "cell_type": "code",
   "execution_count": null,
   "metadata": {
    "id": "FdcUtRGXYwQF",
    "outputId": "c600436a-667a-4edb-c6fe-775d2ec315a9"
   },
   "outputs": [
    {
     "name": "stdout",
     "output_type": "stream",
     "text": [
      "Connecting...\n",
      "Connected to a camera: rtsp://210.99.70.120:1935/live/cctv007.stream\n",
      "Connecting...\n",
      "Connected to a camera: rtsp://210.99.70.120:1935/live/cctv007.stream\n",
      "Failed to receive frame\n"
     ]
    }
   ],
   "source": []
  },
  {
   "cell_type": "code",
   "execution_count": null,
   "metadata": {},
   "outputs": [],
   "source": []
  }
 ],
 "metadata": {
  "colab": {
   "name": "5. Auto Reconnect to Video Streams.ipynb",
   "provenance": []
  },
  "kernelspec": {
   "display_name": "Python 3 (ipykernel)",
   "language": "python",
   "name": "python3"
  },
  "language_info": {
   "codemirror_mode": {
    "name": "ipython",
    "version": 3
   },
   "file_extension": ".py",
   "mimetype": "text/x-python",
   "name": "python",
   "nbconvert_exporter": "python",
   "pygments_lexer": "ipython3",
   "version": "3.11.2"
  }
 },
 "nbformat": 4,
 "nbformat_minor": 4
}
